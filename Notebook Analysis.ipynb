{
 "cells": [
  {
   "cell_type": "markdown",
   "metadata": {},
   "source": [
    "# Exploratory Analysis on Fresno Housing Prices in 2020\n"
   ]
  },
  {
   "cell_type": "code",
   "execution_count": 2,
   "metadata": {},
   "outputs": [],
   "source": [
    "import pandas as pd\n",
    "\n",
    "import re \n",
    "import numpy as np\n",
    "\n",
    "df = pd.read_csv('HousingPrices_Unfiltered.csv')"
   ]
  },
  {
   "cell_type": "code",
   "execution_count": 3,
   "metadata": {},
   "outputs": [
    {
     "name": "stdout",
     "output_type": "stream",
     "text": [
      "<class 'pandas.core.frame.DataFrame'>\n",
      "RangeIndex: 2830 entries, 0 to 2829\n",
      "Data columns (total 13 columns):\n",
      " #   Column                            Non-Null Count  Dtype \n",
      "---  ------                            --------------  ----- \n",
      " 0   Title                             2824 non-null   object\n",
      " 1   Title_link                        2824 non-null   object\n",
      " 2   Thumbnail                         2824 non-null   object\n",
      " 3   Box-sc-8ox7qa-0                   2824 non-null   object\n",
      " 4   Text__TextBase-sc-1i9uasc-0-div   2824 non-null   object\n",
      " 5   Text__TextBase-sc-1i9uasc-0-div1  2824 non-null   object\n",
      " 6   Text__TextBase-sc-1i9uasc-0-div2  2824 non-null   object\n",
      " 7   Text__TextBase-sc-1i9uasc-0-div3  2824 non-null   object\n",
      " 8   SSeMC                             2776 non-null   object\n",
      " 9   Padding-sc-1d43y5s-01             2470 non-null   object\n",
      " 10  cERLyX                            2472 non-null   object\n",
      " 11  Field2                            2413 non-null   object\n",
      " 12  Field3                            1190 non-null   object\n",
      "dtypes: object(13)\n",
      "memory usage: 287.5+ KB\n"
     ]
    }
   ],
   "source": [
    "df.info()"
   ]
  },
  {
   "cell_type": "markdown",
   "metadata": {},
   "source": [
    "As we can see, the column names are quite inconsistent and do not tell us anything\n",
    "\n",
    "\n"
   ]
  },
  {
   "cell_type": "code",
   "execution_count": 4,
   "metadata": {},
   "outputs": [],
   "source": [
    "df = df.rename(columns={\"Title\" : \"Address\", \"Title_link\" : \"Zipcode\", \"Box-sc-8ox7qa-0\" : \"Date Sold\", \"Text__TextBase-sc-1i9uasc-0-div\" : \"Sold Price\", \"Text__TextBase-sc-1i9uasc-0-div1\" : \"Bed\",\"Text__TextBase-sc-1i9uasc-0-div2\" : \"Bath\", \"Text__TextBase-sc-1i9uasc-0-div3\" : \"Square foot\", \"Padding-sc-1d43y5s-01\": \"Neighborhood\"})"
   ]
  },
  {
   "cell_type": "markdown",
   "metadata": {},
   "source": [
    "The column \"thumbnail\" only provides us a link to the photo of the house, so we do not need it.\n",
    "\n",
    "In addition, because we are trends of housing prices by zipcode, we want to create a new column with just the zipcode of the house. At the end of every URL for the housing website we scraped, the zipcode is always in the same place:\n"
   ]
  },
  {
   "cell_type": "code",
   "execution_count": 5,
   "metadata": {
    "scrolled": true
   },
   "outputs": [],
   "source": [
    "df = df.drop(columns = ['Thumbnail'])\n",
    "df = df.dropna(subset=['Zipcode'])\n",
    "df['Zipcode'] = df['Zipcode'].apply(lambda x: x.split('-')[-3])\n"
   ]
  },
  {
   "cell_type": "markdown",
   "metadata": {},
   "source": [
    "We are also creating a new column named Single Family Residence (SFR for short). We can differntiate these buildings from studios or build complex that contain multiple houses. "
   ]
  },
  {
   "cell_type": "code",
   "execution_count": 6,
   "metadata": {},
   "outputs": [],
   "source": [
    "df['SFR'] = df['Bed'].apply(lambda x: False if 'Studio' in x or '1bd'in x else True)"
   ]
  },
  {
   "cell_type": "markdown",
   "metadata": {},
   "source": [
    "We then define two functions, lot fix and build fix. Because of the housing website that we scraped our data from, some houses have more information than other houses. Majority of the houses have a date of when the house was first built but the information was placed in different columns based off how much information each house had on the housing website. "
   ]
  },
  {
   "cell_type": "code",
   "execution_count": 7,
   "metadata": {},
   "outputs": [],
   "source": [
    "cols = list(df.columns)"
   ]
  },
  {
   "cell_type": "code",
   "execution_count": 8,
   "metadata": {},
   "outputs": [],
   "source": [
    "def lot_fix (c1, c2, c3, c4, c5):\n",
    "    if 'Lot' in str(c1):\n",
    "        return c1[9:-4]\n",
    "    if 'Lot' in str(c2):\n",
    "        return c2[9:-4]\n",
    "    if 'Lot' in str(c3):\n",
    "        return c3[9:-4]\n",
    "    if 'Lot' in str(c4):\n",
    "        return c4[9:-4]\n",
    "    if 'Lot' in str(c5):\n",
    "        return c5[9:-4]\n",
    "    else:\n",
    "        return \"-1\""
   ]
  },
  {
   "cell_type": "code",
   "execution_count": 9,
   "metadata": {},
   "outputs": [],
   "source": [
    "def built_fix(c1, c2, c3, c4, c5):\n",
    "    if 'Built' in str(c1):\n",
    "        return c1\n",
    "    if 'Built' in str(c2):\n",
    "        return c2\n",
    "    if 'Built' in str(c3):\n",
    "        return c3\n",
    "    if 'Built' in str(c4):\n",
    "        return c4\n",
    "    if 'Built' in str(c5):\n",
    "        return c5\n",
    "    else:\n",
    "        return \"-1\""
   ]
  },
  {
   "cell_type": "code",
   "execution_count": 10,
   "metadata": {},
   "outputs": [],
   "source": [
    "df['Lot Size'] = df.apply(lambda x: lot_fix(x.SSeMC, x.Neighborhood, x.cERLyX, x.Field2, x.Field3), axis = 1)"
   ]
  },
  {
   "cell_type": "code",
   "execution_count": 11,
   "metadata": {},
   "outputs": [],
   "source": [
    "df['Age of Building'] = df.apply(lambda x: built_fix(x.SSeMC, x.Neighborhood, x.cERLyX, x.Field2, x.Field3), axis=1)"
   ]
  },
  {
   "cell_type": "markdown",
   "metadata": {},
   "source": [
    "## Data cleaning and formatting\n",
    "\n",
    "All of the columns have to be cleaned in order for us to do analysis on the data."
   ]
  },
  {
   "cell_type": "code",
   "execution_count": 12,
   "metadata": {},
   "outputs": [],
   "source": [
    "df['Zipcode'] = df['Zipcode'].apply(lambda x: x if x.isdigit() else np.nan)\n",
    "df = df.dropna(subset=['Zipcode'])"
   ]
  },
  {
   "cell_type": "code",
   "execution_count": 13,
   "metadata": {},
   "outputs": [],
   "source": [
    "df['Age of Building'] = df['Age of Building'].apply(lambda x: x.split(' ')[-1])"
   ]
  },
  {
   "cell_type": "code",
   "execution_count": 14,
   "metadata": {},
   "outputs": [],
   "source": [
    "df['Age of Building'] = df['Age of Building'].apply(lambda x: int(x) if int(x) < 1 else 2020 - int(x))"
   ]
  },
  {
   "cell_type": "code",
   "execution_count": 15,
   "metadata": {},
   "outputs": [],
   "source": [
    "df['Date Sold'] = df['Date Sold'].apply(lambda x: x[3:])"
   ]
  },
  {
   "cell_type": "code",
   "execution_count": 16,
   "metadata": {},
   "outputs": [],
   "source": [
    "df['Bed'] = df['Bed'].apply(lambda x: x[:-2] if x != \"Studio\" and x != 0 else \"Studio\")"
   ]
  },
  {
   "cell_type": "code",
   "execution_count": 17,
   "metadata": {},
   "outputs": [],
   "source": [
    "df['Bath'] = df['Bath'].apply(lambda x: x[:-2] if \"ba\" in x else \"1\")"
   ]
  },
  {
   "cell_type": "code",
   "execution_count": 18,
   "metadata": {},
   "outputs": [],
   "source": [
    "df['Square foot'] = df['Square foot'].apply(lambda x: x[:-4] if \"sqft\" in x else \"-1\")    "
   ]
  },
  {
   "cell_type": "code",
   "execution_count": 19,
   "metadata": {},
   "outputs": [],
   "source": [
    "df['Sold Price'] = df['Sold Price'].apply(lambda x: x[1:] if x[:1] == '$' else \"-1\")"
   ]
  },
  {
   "cell_type": "code",
   "execution_count": 20,
   "metadata": {},
   "outputs": [],
   "source": [
    "df = df.drop(columns=['SSeMC', 'Neighborhood', 'cERLyX', 'Field2', 'Field3'])"
   ]
  },
  {
   "cell_type": "code",
   "execution_count": 21,
   "metadata": {
    "scrolled": true
   },
   "outputs": [],
   "source": [
    "df['Sold Price'] = df['Sold Price'].apply(lambda x: x.strip())"
   ]
  },
  {
   "cell_type": "code",
   "execution_count": 22,
   "metadata": {},
   "outputs": [],
   "source": [
    "df['Sold Price'] = df['Sold Price'].apply(lambda x: x.replace(',',''))"
   ]
  },
  {
   "cell_type": "code",
   "execution_count": 23,
   "metadata": {},
   "outputs": [],
   "source": [
    "df['Sold Price'] = df['Sold Price'].apply(lambda x: int(x))"
   ]
  },
  {
   "cell_type": "code",
   "execution_count": 24,
   "metadata": {},
   "outputs": [],
   "source": [
    "df['Square foot'] = df['Square foot'].apply(lambda x: x.replace(',',''))"
   ]
  },
  {
   "cell_type": "code",
   "execution_count": 25,
   "metadata": {
    "scrolled": false
   },
   "outputs": [],
   "source": [
    "df = df.astype({'Sold Price': 'float64','Square foot':'int64'})"
   ]
  },
  {
   "cell_type": "code",
   "execution_count": 26,
   "metadata": {},
   "outputs": [
    {
     "name": "stdout",
     "output_type": "stream",
     "text": [
      "<class 'pandas.core.frame.DataFrame'>\n",
      "Int64Index: 2800 entries, 0 to 2829\n",
      "Data columns (total 10 columns):\n",
      " #   Column           Non-Null Count  Dtype  \n",
      "---  ------           --------------  -----  \n",
      " 0   Address          2800 non-null   object \n",
      " 1   Zipcode          2800 non-null   object \n",
      " 2   Date Sold        2800 non-null   object \n",
      " 3   Sold Price       2800 non-null   float64\n",
      " 4   Bed              2800 non-null   object \n",
      " 5   Bath             2800 non-null   object \n",
      " 6   Square foot      2800 non-null   int64  \n",
      " 7   SFR              2800 non-null   bool   \n",
      " 8   Lot Size         2800 non-null   object \n",
      " 9   Age of Building  2800 non-null   int64  \n",
      "dtypes: bool(1), float64(1), int64(2), object(6)\n",
      "memory usage: 221.5+ KB\n"
     ]
    }
   ],
   "source": [
    "df.info()"
   ]
  },
  {
   "cell_type": "markdown",
   "metadata": {},
   "source": [
    "## Feature Engineering\n",
    "\n",
    "In this section, I create new columns that I think would best aid the dataset in showing disparities in zipcodes in the central valley. Because there are many hidden factors that could affect the housing neighborhood (placement of freeways, factories, parks, schools, grocery stores, etc.), it is important to highlight these factors so we could get a better picture of why housing prices differ greatly depending on where the house is located.\n",
    "\n",
    "As of now, I have researched two factors that could affect housing prices, these were: the number of parks located in a neighborhood and the number of sexual predators in a neighborhood."
   ]
  },
  {
   "cell_type": "code",
   "execution_count": 27,
   "metadata": {
    "tags": [
     "hide-input"
    ]
   },
   "outputs": [],
   "source": [
    "def park_function(zipcode):\n",
    "    if '93619' in zipcode:\n",
    "        return 7\n",
    "    elif '93611' in zipcode:\n",
    "        return 6\n",
    "    elif '93612' in zipcode:\n",
    "        return 7\n",
    "    elif '93710' in zipcode:\n",
    "        return 4\n",
    "    elif '93720' in zipcode:\n",
    "        return 4\n",
    "    elif '93726' in zipcode:\n",
    "        return 8\n",
    "    elif '93727' in zipcode:\n",
    "        return 7\n",
    "    elif '93711' in zipcode:\n",
    "        return 5\n",
    "    elif '93704' in zipcode:\n",
    "        return 2\n",
    "    elif '93702' in zipcode:\n",
    "        return 2\n",
    "    elif '93703' in zipcode:\n",
    "        return 3\n",
    "    elif '93728' in zipcode:\n",
    "        return 1\n",
    "    else: return 0\n",
    "\n",
    "def so_function(zipcode):\n",
    "    if '93619' in zipcode:\n",
    "        return 0\n",
    "    elif '93611' in zipcode:\n",
    "        return 24\n",
    "    elif '93612' in zipcode:\n",
    "        return 67\n",
    "    elif '93710' in zipcode:\n",
    "        return 60\n",
    "    elif '93720' in zipcode:\n",
    "        return 31\n",
    "    elif '93726' in zipcode:\n",
    "        return 94\n",
    "    elif '93727' in zipcode:\n",
    "        return 103\n",
    "    elif '93711' in zipcode:\n",
    "        return 29\n",
    "    elif '93704' in zipcode:\n",
    "        return 93\n",
    "    elif '93705' in zipcode:\n",
    "        return 100\n",
    "    elif '93706' in zipcode:\n",
    "        return 176\n",
    "    elif '93737' in zipcode:\n",
    "        return 5\n",
    "    elif '93725' in zipcode:\n",
    "        return 54\n",
    "    elif '93702' in zipcode:\n",
    "        return 101\n",
    "    elif '93703' in zipcode:\n",
    "        return 92\n",
    "    elif '93728' in zipcode:\n",
    "        return 77\n",
    "    elif '93722' in zipcode:\n",
    "        return 163\n",
    "    else: \n",
    "        return 0"
   ]
  },
  {
   "cell_type": "code",
   "execution_count": 28,
   "metadata": {},
   "outputs": [],
   "source": [
    "df['Parks'] = df['Zipcode'].apply(park_function)\n",
    "df['SexualOffenders'] = df['Zipcode'].apply(so_function)"
   ]
  },
  {
   "cell_type": "markdown",
   "metadata": {},
   "source": [
    "## Visualizations\n"
   ]
  },
  {
   "cell_type": "code",
   "execution_count": 28,
   "metadata": {},
   "outputs": [],
   "source": [
    "import matplotlib.pyplot as plt\n",
    "from numpy import median\n",
    "import seaborn as sns"
   ]
  },
  {
   "cell_type": "code",
   "execution_count": 29,
   "metadata": {},
   "outputs": [],
   "source": [
    "num_houses_zipcode = df['Zipcode'].value_counts()\n",
    "num_houses_zipcode =num_houses_zipcode.sort_values()"
   ]
  },
  {
   "cell_type": "code",
   "execution_count": 30,
   "metadata": {},
   "outputs": [],
   "source": [
    "houses_zipcode = pd.DataFrame({'Zipcode':num_houses_zipcode.index, 'Num of Houses':num_houses_zipcode.values})"
   ]
  },
  {
   "cell_type": "markdown",
   "metadata": {},
   "source": [
    "Majority of the homes that were sold in 2019-2020 in Fresno were in the zipcode 93619. The reason for this is due to new development in the area where there have been an influx of homes being built."
   ]
  },
  {
   "cell_type": "code",
   "execution_count": 31,
   "metadata": {
    "scrolled": true
   },
   "outputs": [
    {
     "data": {
      "text/plain": [
       "Text(0.5, 1.0, 'Num of houses by zipcode')"
      ]
     },
     "execution_count": 31,
     "metadata": {},
     "output_type": "execute_result"
    },
    {
     "data": {
      "image/png": "[encoded data removed]",
      "text/plain": [
       "<Figure size 1080x432 with 1 Axes>"
      ]
     },
     "metadata": {
      "needs_background": "light"
     },
     "output_type": "display_data"
    }
   ],
   "source": [
    "fig, ax = plt.subplots(1,1, figsize=(15,6))\n",
    "ax = sns.barplot(x=num_houses_zipcode.values, y=num_houses_zipcode.index, orient='h', palette='deep')\n",
    "\n",
    "ax.set_ylabel('Zipcodes')\n",
    "ax.set_xlabel('Number of houses')\n",
    "ax.set_title('Num of houses by zipcode')"
   ]
  },
  {
   "cell_type": "code",
   "execution_count": 32,
   "metadata": {
    "scrolled": false
   },
   "outputs": [
    {
     "data": {
      "image/png": "[encoded data removed]",
      "text/plain": [
       "<Figure size 1152x648 with 1 Axes>"
      ]
     },
     "metadata": {
      "needs_background": "light"
     },
     "output_type": "display_data"
    }
   ],
   "source": [
    "fig = plt.figure(figsize = (16,9))\n",
    "plt.bar( num_houses_zipcode.index, num_houses_zipcode.values)\n",
    "\n",
    "plt.xlabel(\"Zipcodes\")\n",
    "plt.ylabel(\"Num of houses\")\n",
    "plt.title(\"Num of houses per zipcode\")\n",
    "plt.show()"
   ]
  },
  {
   "cell_type": "code",
   "execution_count": 33,
   "metadata": {},
   "outputs": [
    {
     "data": {
      "text/plain": [
       "0       163\n",
       "1        31\n",
       "2         0\n",
       "3       163\n",
       "4        31\n",
       "       ... \n",
       "2825      0\n",
       "2826      0\n",
       "2827     24\n",
       "2828      0\n",
       "2829      0\n",
       "Name: SexualOffenders, Length: 2800, dtype: int64"
      ]
     },
     "execution_count": 33,
     "metadata": {},
     "output_type": "execute_result"
    }
   ],
   "source": [
    "df['SexualOffenders']"
   ]
  },
  {
   "cell_type": "code",
   "execution_count": 34,
   "metadata": {},
   "outputs": [
    {
     "data": {
      "text/plain": [
       "0       350000.0\n",
       "1       580000.0\n",
       "2       905000.0\n",
       "3       135000.0\n",
       "4       440000.0\n",
       "          ...   \n",
       "2825        -1.0\n",
       "2826    665000.0\n",
       "2827    330000.0\n",
       "2828    380000.0\n",
       "2829    441500.0\n",
       "Name: Sold Price, Length: 2800, dtype: float64"
      ]
     },
     "execution_count": 34,
     "metadata": {},
     "output_type": "execute_result"
    }
   ],
   "source": [
    "df['Sold Price']"
   ]
  },
  {
   "cell_type": "code",
   "execution_count": 35,
   "metadata": {},
   "outputs": [],
   "source": [
    "avgprice_zipcode = df['Sold Price'].groupby(df.Zipcode).mean().sort_values(ascending=False)"
   ]
  },
  {
   "cell_type": "code",
   "execution_count": 36,
   "metadata": {},
   "outputs": [],
   "source": [
    "avgprice_zipcode = avgprice_zipcode.to_frame()"
   ]
  },
  {
   "cell_type": "code",
   "execution_count": 37,
   "metadata": {},
   "outputs": [],
   "source": [
    "avgprice_zipcode=avgprice_zipcode.merge(houses_zipcode, on='Zipcode', how='left')"
   ]
  },
  {
   "cell_type": "markdown",
   "metadata": {},
   "source": [
    "It's important to note that while the zipcode 93651 had the highest average price sold, there was only one house that was sold in that zipcode. Additionally zipcode 93626 had only one house sold."
   ]
  },
  {
   "cell_type": "code",
   "execution_count": 38,
   "metadata": {
    "scrolled": false
   },
   "outputs": [],
   "source": [
    "avgprice_zipcode['Zipcode'] = avgprice_zipcode['Zipcode'].apply(lambda x: x if x not in ('93651','93626') else np.nan)"
   ]
  },
  {
   "cell_type": "code",
   "execution_count": 39,
   "metadata": {},
   "outputs": [],
   "source": [
    "avgprice_zipcode = avgprice_zipcode.dropna(subset=['Zipcode'])"
   ]
  },
  {
   "cell_type": "code",
   "execution_count": 40,
   "metadata": {},
   "outputs": [
    {
     "data": {
      "image/png": "[encoded data removed]",
      "text/plain": [
       "<Figure size 1080x432 with 1 Axes>"
      ]
     },
     "metadata": {
      "needs_background": "light"
     },
     "output_type": "display_data"
    }
   ],
   "source": [
    "plt.figure(figsize=(15,6))\n",
    "price_chart = sns.barplot(x=avgprice_zipcode.Zipcode, y=avgprice_zipcode['Sold Price'], order=avgprice_zipcode.Zipcode, data=avgprice_zipcode)\n",
    "plt.show()"
   ]
  },
  {
   "cell_type": "code",
   "execution_count": 41,
   "metadata": {},
   "outputs": [],
   "source": [
    "so_zipcode = df['SexualOffenders'].groupby(df.Zipcode).mean().sort_values(ascending=False)"
   ]
  },
  {
   "cell_type": "code",
   "execution_count": 42,
   "metadata": {},
   "outputs": [],
   "source": [
    "so_zipcode = so_zipcode.dropna()"
   ]
  },
  {
   "cell_type": "code",
   "execution_count": 43,
   "metadata": {
    "scrolled": false
   },
   "outputs": [
    {
     "data": {
      "image/png": "[encoded data removed]",
      "text/plain": [
       "<Figure size 1080x432 with 1 Axes>"
      ]
     },
     "metadata": {
      "needs_background": "light"
     },
     "output_type": "display_data"
    }
   ],
   "source": [
    "plt.figure(figsize=(15,6))\n",
    "zipcode_chart = sns.barplot(x=so_zipcode.index, y=so_zipcode, order = so_zipcode.index ,data=df)\n",
    "plt.show()"
   ]
  },
  {
   "cell_type": "markdown",
   "metadata": {},
   "source": [
    "The zipcode that contains the highest number of sexual offenders living in the area (93706) had one of the lowest average price of houses sold in this area, and the houses that had the highest average price of houses sold in the area (93619) had 0 sexual offenders living in the area. "
   ]
  },
  {
   "cell_type": "code",
   "execution_count": 44,
   "metadata": {
    "scrolled": false
   },
   "outputs": [
    {
     "data": {
      "text/plain": [
       "<matplotlib.axes._subplots.AxesSubplot at 0x1dba1613b80>"
      ]
     },
     "execution_count": 44,
     "metadata": {},
     "output_type": "execute_result"
    },
    {
     "data": {
      "image/png": "[encoded data removed]",
      "text/plain": [
       "<Figure size 648x360 with 2 Axes>"
      ]
     },
     "metadata": {
      "needs_background": "light"
     },
     "output_type": "display_data"
    }
   ],
   "source": [
    "plt.figure(figsize=(9,5))\n",
    "cmap = sns.diverging_palette(220, 10, as_cmap = True)\n",
    "sns.heatmap(df[['Sold Price', 'Zipcode', 'Parks', 'SexualOffenders']].corr(), vmax=.3, center=0, cmap=cmap,\n",
    "           square=True, linewidths=.5, cbar_kws={\"shrink\": .5})"
   ]
  },
  {
   "cell_type": "markdown",
   "metadata": {},
   "source": [
    "As shown in this heat map, the number of sexual offenders had a negative correlation with the average price of a sold home and the number of parks in the area while the number of parks had a positive correlation with the average price of a sold home. "
   ]
  },
  {
   "cell_type": "markdown",
   "metadata": {},
   "source": [
    "### Why are these two new features relevant in analyzing housing prices?"
   ]
  },
  {
   "cell_type": "markdown",
   "metadata": {},
   "source": [
    "There are laws that keep the majority of registered sex offenders in certain areas of the city. One law is Jessica's Law of 2006. This law enforces that all sexual offenders had to live at least 2,000 feet away from schools and parks. This causes a strong indirect correlation with housing prices and parks. Those who are not able to afford houses in areas that have higher number of parks and lower number of sexual offenders are forced to live in areas that are underfunded. These laws have created systematic segregation between poor and affluent communities - families do not have a choice of where their homes are located when chosing to rent or buy a house."
   ]
  },
  {
   "cell_type": "markdown",
   "metadata": {},
   "source": [
    "## Prepping data for predicting the housing prices in Fresno\n",
    "Will be using the mean absolute error to measure the performance of our model"
   ]
  },
  {
   "cell_type": "code",
   "execution_count": 45,
   "metadata": {},
   "outputs": [],
   "source": [
    "df = df.loc[df['Bed'] != \"Studio\"]"
   ]
  },
  {
   "cell_type": "code",
   "execution_count": 46,
   "metadata": {},
   "outputs": [],
   "source": [
    "df = df.loc[df['Sold Price'] != -1]"
   ]
  },
  {
   "cell_type": "code",
   "execution_count": 47,
   "metadata": {
    "scrolled": true
   },
   "outputs": [],
   "source": [
    "df['Lot Size'] = df['Lot Size'].apply(lambda x: int((x.strip()).replace(',','')) if 'a' not in x else round((float(x[:-1].strip())) * 43560))"
   ]
  },
  {
   "cell_type": "code",
   "execution_count": 48,
   "metadata": {
    "scrolled": true
   },
   "outputs": [
    {
     "data": {
      "text/html": [
       "<div>\n",
       "<style scoped>\n",
       "    .dataframe tbody tr th:only-of-type {\n",
       "        vertical-align: middle;\n",
       "    }\n",
       "\n",
       "    .dataframe tbody tr th {\n",
       "        vertical-align: top;\n",
       "    }\n",
       "\n",
       "    .dataframe thead th {\n",
       "        text-align: right;\n",
       "    }\n",
       "</style>\n",
       "<table border=\"1\" class=\"dataframe\">\n",
       "  <thead>\n",
       "    <tr style=\"text-align: right;\">\n",
       "      <th></th>\n",
       "      <th>Address</th>\n",
       "      <th>Zipcode</th>\n",
       "      <th>Date Sold</th>\n",
       "      <th>Sold Price</th>\n",
       "      <th>Bed</th>\n",
       "      <th>Bath</th>\n",
       "      <th>Square foot</th>\n",
       "      <th>SFR</th>\n",
       "      <th>Lot Size</th>\n",
       "      <th>Age of Building</th>\n",
       "      <th>Parks</th>\n",
       "      <th>SexualOffenders</th>\n",
       "    </tr>\n",
       "  </thead>\n",
       "  <tbody>\n",
       "    <tr>\n",
       "      <th>1</th>\n",
       "      <td>9446 N Ashurst Dr</td>\n",
       "      <td>93720</td>\n",
       "      <td>Aug-20</td>\n",
       "      <td>580000.0</td>\n",
       "      <td>4</td>\n",
       "      <td>3</td>\n",
       "      <td>2505</td>\n",
       "      <td>True</td>\n",
       "      <td>9583</td>\n",
       "      <td>-1</td>\n",
       "      <td>4</td>\n",
       "      <td>31</td>\n",
       "    </tr>\n",
       "    <tr>\n",
       "      <th>2</th>\n",
       "      <td>1715 E Wallington Ln</td>\n",
       "      <td>93730</td>\n",
       "      <td>Aug-20</td>\n",
       "      <td>905000.0</td>\n",
       "      <td>4</td>\n",
       "      <td>3.5</td>\n",
       "      <td>3968</td>\n",
       "      <td>True</td>\n",
       "      <td>13939</td>\n",
       "      <td>-1</td>\n",
       "      <td>0</td>\n",
       "      <td>0</td>\n",
       "    </tr>\n",
       "    <tr>\n",
       "      <th>3</th>\n",
       "      <td>4504 N Valentine Ave #181</td>\n",
       "      <td>93722</td>\n",
       "      <td>Aug-20</td>\n",
       "      <td>135000.0</td>\n",
       "      <td>2</td>\n",
       "      <td>1</td>\n",
       "      <td>916</td>\n",
       "      <td>True</td>\n",
       "      <td>888</td>\n",
       "      <td>-1</td>\n",
       "      <td>0</td>\n",
       "      <td>163</td>\n",
       "    </tr>\n",
       "    <tr>\n",
       "      <th>5</th>\n",
       "      <td>10721 N Windham Bay Cir</td>\n",
       "      <td>93730</td>\n",
       "      <td>Aug-20</td>\n",
       "      <td>301000.0</td>\n",
       "      <td>3</td>\n",
       "      <td>2</td>\n",
       "      <td>1261</td>\n",
       "      <td>True</td>\n",
       "      <td>4200</td>\n",
       "      <td>-1</td>\n",
       "      <td>0</td>\n",
       "      <td>0</td>\n",
       "    </tr>\n",
       "    <tr>\n",
       "      <th>11</th>\n",
       "      <td>2575 S Willow Ave #132</td>\n",
       "      <td>93725</td>\n",
       "      <td>Aug-20</td>\n",
       "      <td>79000.0</td>\n",
       "      <td>3</td>\n",
       "      <td>2</td>\n",
       "      <td>1248</td>\n",
       "      <td>True</td>\n",
       "      <td>-1</td>\n",
       "      <td>1</td>\n",
       "      <td>0</td>\n",
       "      <td>54</td>\n",
       "    </tr>\n",
       "    <tr>\n",
       "      <th>...</th>\n",
       "      <td>...</td>\n",
       "      <td>...</td>\n",
       "      <td>...</td>\n",
       "      <td>...</td>\n",
       "      <td>...</td>\n",
       "      <td>...</td>\n",
       "      <td>...</td>\n",
       "      <td>...</td>\n",
       "      <td>...</td>\n",
       "      <td>...</td>\n",
       "      <td>...</td>\n",
       "      <td>...</td>\n",
       "    </tr>\n",
       "    <tr>\n",
       "      <th>2632</th>\n",
       "      <td>2110 Helm Ave #16</td>\n",
       "      <td>93612</td>\n",
       "      <td>Jan-20</td>\n",
       "      <td>35001.0</td>\n",
       "      <td>2</td>\n",
       "      <td>1</td>\n",
       "      <td>-1</td>\n",
       "      <td>True</td>\n",
       "      <td>-1</td>\n",
       "      <td>36</td>\n",
       "      <td>7</td>\n",
       "      <td>67</td>\n",
       "    </tr>\n",
       "    <tr>\n",
       "      <th>2643</th>\n",
       "      <td>4097 Bellaire Ave</td>\n",
       "      <td>93737</td>\n",
       "      <td>Jan-20</td>\n",
       "      <td>354500.0</td>\n",
       "      <td>3</td>\n",
       "      <td>2</td>\n",
       "      <td>-1</td>\n",
       "      <td>True</td>\n",
       "      <td>4486</td>\n",
       "      <td>1</td>\n",
       "      <td>0</td>\n",
       "      <td>5</td>\n",
       "    </tr>\n",
       "    <tr>\n",
       "      <th>2670</th>\n",
       "      <td>3446 Carmelita Ave</td>\n",
       "      <td>93619</td>\n",
       "      <td>Jan-20</td>\n",
       "      <td>322000.0</td>\n",
       "      <td>3</td>\n",
       "      <td>2</td>\n",
       "      <td>1580</td>\n",
       "      <td>True</td>\n",
       "      <td>4499</td>\n",
       "      <td>-1</td>\n",
       "      <td>7</td>\n",
       "      <td>0</td>\n",
       "    </tr>\n",
       "    <tr>\n",
       "      <th>2710</th>\n",
       "      <td>3427 Carmelita Ave</td>\n",
       "      <td>93619</td>\n",
       "      <td>Jan-20</td>\n",
       "      <td>330000.0</td>\n",
       "      <td>3</td>\n",
       "      <td>2</td>\n",
       "      <td>1580</td>\n",
       "      <td>True</td>\n",
       "      <td>4525</td>\n",
       "      <td>-1</td>\n",
       "      <td>7</td>\n",
       "      <td>0</td>\n",
       "    </tr>\n",
       "    <tr>\n",
       "      <th>2779</th>\n",
       "      <td>2219 Coventry Ave</td>\n",
       "      <td>93611</td>\n",
       "      <td>an-20</td>\n",
       "      <td>293000.0</td>\n",
       "      <td>4</td>\n",
       "      <td>1</td>\n",
       "      <td>-1</td>\n",
       "      <td>True</td>\n",
       "      <td>5662</td>\n",
       "      <td>15</td>\n",
       "      <td>6</td>\n",
       "      <td>24</td>\n",
       "    </tr>\n",
       "  </tbody>\n",
       "</table>\n",
       "<p>197 rows × 12 columns</p>\n",
       "</div>"
      ],
      "text/plain": [
       "                        Address Zipcode Date Sold  Sold Price Bed Bath  \\\n",
       "1             9446 N Ashurst Dr   93720    Aug-20    580000.0   4    3   \n",
       "2          1715 E Wallington Ln   93730    Aug-20    905000.0   4  3.5   \n",
       "3     4504 N Valentine Ave #181   93722    Aug-20    135000.0   2    1   \n",
       "5       10721 N Windham Bay Cir   93730    Aug-20    301000.0   3    2   \n",
       "11       2575 S Willow Ave #132   93725    Aug-20     79000.0   3    2   \n",
       "...                         ...     ...       ...         ...  ..  ...   \n",
       "2632          2110 Helm Ave #16   93612    Jan-20     35001.0   2    1   \n",
       "2643          4097 Bellaire Ave   93737    Jan-20    354500.0   3    2   \n",
       "2670         3446 Carmelita Ave   93619    Jan-20    322000.0   3    2   \n",
       "2710         3427 Carmelita Ave   93619    Jan-20    330000.0   3    2   \n",
       "2779          2219 Coventry Ave   93611     an-20    293000.0   4    1   \n",
       "\n",
       "      Square foot   SFR  Lot Size  Age of Building  Parks  SexualOffenders  \n",
       "1            2505  True      9583               -1      4               31  \n",
       "2            3968  True     13939               -1      0                0  \n",
       "3             916  True       888               -1      0              163  \n",
       "5            1261  True      4200               -1      0                0  \n",
       "11           1248  True        -1                1      0               54  \n",
       "...           ...   ...       ...              ...    ...              ...  \n",
       "2632           -1  True        -1               36      7               67  \n",
       "2643           -1  True      4486                1      0                5  \n",
       "2670         1580  True      4499               -1      7                0  \n",
       "2710         1580  True      4525               -1      7                0  \n",
       "2779           -1  True      5662               15      6               24  \n",
       "\n",
       "[197 rows x 12 columns]"
      ]
     },
     "execution_count": 48,
     "metadata": {},
     "output_type": "execute_result"
    }
   ],
   "source": [
    "df.loc[(df['Lot Size'] == -1) | (df['Square foot'] == -1) | (df['Age of Building'] == -1)]"
   ]
  },
  {
   "cell_type": "code",
   "execution_count": 49,
   "metadata": {},
   "outputs": [],
   "source": [
    "from sklearn.model_selection import train_test_split\n",
    "\n",
    "y = df['Sold Price']\n",
    "\n",
    "baseline_features = ['Zipcode', 'Bed', 'Bath', 'Square foot', 'Lot Size', 'Age of Building']\n",
    "baseline_x = df[baseline_features]\n",
    "\n",
    "btrain_X, bval_X, btrain_y, bval_y = train_test_split(baseline_x, y, random_state = 0)\n"
   ]
  },
  {
   "cell_type": "markdown",
   "metadata": {},
   "source": [
    "For our baseline we will be using Decision Trees without our new features."
   ]
  },
  {
   "cell_type": "code",
   "execution_count": 50,
   "metadata": {},
   "outputs": [],
   "source": [
    "from sklearn.tree import DecisionTreeRegressor\n",
    "from sklearn.metrics import mean_absolute_error\n",
    "\n",
    "bDTR_model = DecisionTreeRegressor()\n",
    "bDTR_model.fit(btrain_X, btrain_y)\n",
    "\n",
    "bval_predictions = bDTR_model.predict(bval_X)\n",
    "bdtr = (mean_absolute_error(bval_y, bval_predictions))"
   ]
  },
  {
   "cell_type": "code",
   "execution_count": 51,
   "metadata": {
    "scrolled": true
   },
   "outputs": [
    {
     "name": "stdout",
     "output_type": "stream",
     "text": [
      "52138.134650651824\n"
     ]
    }
   ],
   "source": [
    "from sklearn.ensemble import GradientBoostingRegressor\n",
    "\n",
    "bgbr_model = GradientBoostingRegressor(n_estimators=300, learning_rate=0.05, \n",
    "                                      max_depth=4, random_state=5)\n",
    "bgbr_model.fit(btrain_X, btrain_y)\n",
    "bgbr_val_predictions = bgbr_model.predict(bval_X)\n",
    "print(mean_absolute_error(bval_y, bgbr_val_predictions))"
   ]
  },
  {
   "cell_type": "code",
   "execution_count": 52,
   "metadata": {},
   "outputs": [],
   "source": [
    "\n",
    "my_features = ['Zipcode', 'Bed', 'Bath', 'Square foot', 'Lot Size', 'Age of Building', 'Parks', 'SexualOffenders']\n",
    "\n",
    "X = df[my_features]\n",
    "\n",
    "train_X, val_X, train_y, val_y = train_test_split(X, y, random_state = 0)\n"
   ]
  },
  {
   "cell_type": "code",
   "execution_count": 53,
   "metadata": {},
   "outputs": [
    {
     "name": "stdout",
     "output_type": "stream",
     "text": [
      "61979.083608893714\n"
     ]
    }
   ],
   "source": [
    "from sklearn.linear_model import LinearRegression\n",
    "\n",
    "linear_model = LinearRegression()\n",
    "linear_model.fit(train_X, train_y)\n",
    "linear_val_predictions = linear_model.predict(val_X)\n",
    "print(mean_absolute_error(val_y, linear_val_predictions))"
   ]
  },
  {
   "cell_type": "code",
   "execution_count": 54,
   "metadata": {},
   "outputs": [],
   "source": [
    "from sklearn.linear_model import Lasso\n",
    "\n",
    "lasso_model = Lasso(alpha=0.0005, random_state=5)\n",
    "lasso_model.fit(train_X, train_y)\n",
    "lasso_val_predictions = lasso_model.predict(val_X)\n",
    "\n",
    "las = (mean_absolute_error(val_y, lasso_val_predictions))"
   ]
  },
  {
   "cell_type": "code",
   "execution_count": 55,
   "metadata": {
    "scrolled": true
   },
   "outputs": [],
   "source": [
    "\n",
    "DTR_model = DecisionTreeRegressor()\n",
    "DTR_model.fit(train_X, train_y)\n",
    "\n",
    "val_predictions = DTR_model.predict(val_X)\n",
    "dtr = (mean_absolute_error(val_y, val_predictions))"
   ]
  },
  {
   "cell_type": "code",
   "execution_count": 56,
   "metadata": {},
   "outputs": [
    {
     "name": "stdout",
     "output_type": "stream",
     "text": [
      "61979.083608893714\n"
     ]
    }
   ],
   "source": [
    "from sklearn.linear_model import LinearRegression\n",
    "\n",
    "linear_model = LinearRegression()\n",
    "linear_model.fit(train_X, train_y)\n",
    "linear_val_predictions = linear_model.predict(val_X)\n",
    "print(mean_absolute_error(val_y, linear_val_predictions))"
   ]
  },
  {
   "cell_type": "code",
   "execution_count": 57,
   "metadata": {},
   "outputs": [],
   "source": [
    "from sklearn.ensemble import GradientBoostingRegressor\n",
    "\n",
    "gbr_model = GradientBoostingRegressor(n_estimators=300, learning_rate=0.05, \n",
    "                                      max_depth=4, random_state=5)\n",
    "gbr_model.fit(train_X, train_y)\n",
    "gbr_val_predictions = gbr_model.predict(val_X)\n",
    "gbr = (mean_absolute_error(val_y, gbr_val_predictions))"
   ]
  },
  {
   "cell_type": "code",
   "execution_count": 58,
   "metadata": {},
   "outputs": [
    {
     "data": {
      "image/png": "[encoded data removed]",
      "text/plain": [
       "<Figure size 432x288 with 1 Axes>"
      ]
     },
     "metadata": {
      "needs_background": "light"
     },
     "output_type": "display_data"
    }
   ],
   "source": [
    "fig = plt.figure()\n",
    "ax = fig.add_axes([0,0,1,1])\n",
    "models = ['BLine w Dec Trees', 'Decision Trees', 'Lasso', 'Gradient Boosting']\n",
    "mae = [bdtr,dtr,las,gbr]\n",
    "ax.bar(models,mae)\n",
    "ax.set_ylabel('MAE')\n",
    "ax.set_title('MAE by Regression Models')\n",
    "plt.show()"
   ]
  },
  {
   "cell_type": "markdown",
   "metadata": {},
   "source": [
    "Gradient boosting performs the best with our dataset when it is paired with our new, engineered features."
   ]
  },
  {
   "cell_type": "markdown",
   "metadata": {},
   "source": [
    "## Conclusion"
   ]
  },
  {
   "cell_type": "markdown",
   "metadata": {},
   "source": [
    "As we can see, affluent communities in the Fresno area are built away from freeways and benefit from public policy (such as Jessica's Law). In Fresno, there is a strong negative correlation between the number of sexual offenders living in the area and the average price a home was sold in the same area. Furthermore, zipcodes that had an abundant number of parks had a positive correlation with the average price a home was sold in the area."
   ]
  },
  {
   "cell_type": "markdown",
   "metadata": {},
   "source": [
    "Because this data was scraped using a custom script and an API, the dataset was inconsistent. I wanted to scrape housing data in order to obtain the data for free - housing price data should be available for the public without a paywall. In order to better asess housing data by zipcode, consistent and accurate data is needed. In the future, I hope to obtain an accurate dataset to do exploratory analysis on in order to allow homebuyers to make decisions that are backed by data."
   ]
  }
 ],
 "metadata": {
  "kernelspec": {
   "display_name": "Python 3",
   "language": "python",
   "name": "python3"
  },
  "language_info": {
   "codemirror_mode": {
    "name": "ipython",
    "version": 3
   },
   "file_extension": ".py",
   "mimetype": "text/x-python",
   "name": "python",
   "nbconvert_exporter": "python",
   "pygments_lexer": "ipython3",
   "version": "3.8.3"
  }
 },
 "nbformat": 4,
 "nbformat_minor": 4
}
